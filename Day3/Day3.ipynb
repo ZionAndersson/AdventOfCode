{
 "cells": [
  {
   "cell_type": "markdown",
   "metadata": {},
   "source": [
    "# Advent Of Code Day 3"
   ]
  },
  {
   "cell_type": "markdown",
   "metadata": {},
   "source": [
    "### Task 1"
   ]
  },
  {
   "cell_type": "markdown",
   "metadata": {},
   "source": [
    "Task Text:\n",
    "\n",
    "Starting at the top-left corner of your map and following a slope of right 3 and down 1, how many trees would you encounter?"
   ]
  },
  {
   "cell_type": "code",
   "execution_count": 55,
   "metadata": {},
   "outputs": [
    {
     "data": {
      "text/plain": [
       "323"
      ]
     },
     "execution_count": 55,
     "metadata": {},
     "output_type": "execute_result"
    }
   ],
   "source": [
    "slope = []\n",
    "with open('input.txt', 'r') as f:\n",
    "        for line in f.readlines():\n",
    "            slope.append(line)\n",
    "len(slope)"
   ]
  },
  {
   "cell_type": "code",
   "execution_count": 49,
   "metadata": {},
   "outputs": [
    {
     "data": {
      "text/plain": [
       "216"
      ]
     },
     "execution_count": 49,
     "metadata": {},
     "output_type": "execute_result"
    }
   ],
   "source": [
    "def dodge_trees():\n",
    "    r = 0\n",
    "    trees = 0\n",
    "    for line in slope:\n",
    "        new_line = str.replace(line,'\\n','') + str.replace(line,'\\n','') + str.replace(line,'\\n','') + str.replace(line,'\\n','') + str.replace(line,'\\n','') + str.replace(line,'\\n','') + str.replace(line,'\\n','') + str.replace(line,'\\n','') + str.replace(line,'\\n','') + str.replace(line,'\\n','') + str.replace(line,'\\n','') + str.replace(line,'\\n','') + str.replace(line,'\\n','') + str.replace(line,'\\n','') + str.replace(line,'\\n','') + str.replace(line,'\\n','') + str.replace(line,'\\n','') + str.replace(line,'\\n','') + str.replace(line,'\\n','') + str.replace(line,'\\n','') + str.replace(line,'\\n','') + str.replace(line,'\\n','') + str.replace(line,'\\n','') + str.replace(line,'\\n','') + str.replace(line,'\\n','') + str.replace(line,'\\n','') + str.replace(line,'\\n','') + str.replace(line,'\\n','') + str.replace(line,'\\n','') + str.replace(line,'\\n','') + str.replace(line,'\\n','') + str.replace(line,'\\n','') + str.replace(line,'\\n','') + str.replace(line,'\\n','') + str.replace(line,'\\n','') + str.replace(line,'\\n','') + str.replace(line,'\\n','') + str.replace(line,'\\n','')\n",
    "        if r > 0 and new_line[r] == '#':\n",
    "            trees = trees + 1\n",
    "            #print(new_line)\n",
    "            #print(new_line[r])\n",
    "        r = r + 3    \n",
    "    return(trees)\n",
    "dodge_trees()   \n"
   ]
  },
  {
   "cell_type": "markdown",
   "metadata": {},
   "source": [
    "### Task 2\n",
    "\n",
    "Task Text:\n",
    "\n",
    "Time to check the rest of the slopes - you need to minimize the probability of a sudden arboreal stop, after all.\n",
    "\n",
    "Determine the number of trees you would encounter if, for each of the following slopes, you start at the top-left corner and traverse the map all the way to the bottom:\n",
    "\n",
    "Right 1, down 1.\n",
    "Right 3, down 1. (This is the slope you already checked.)\n",
    "Right 5, down 1.\n",
    "Right 7, down 1.\n",
    "Right 1, down 2.\n",
    "In the above example, these slopes would find 2, 7, 3, 4, and 2 tree(s) respectively; multiplied together, these produce the answer 336.\n",
    "\n",
    "What do you get if you multiply together the number of trees encountered on each of the listed slopes?"
   ]
  },
  {
   "cell_type": "code",
   "execution_count": 57,
   "metadata": {},
   "outputs": [
    {
     "data": {
      "text/plain": [
       "(216, 79, 91, 96, 45, 6708199680)"
      ]
     },
     "execution_count": 57,
     "metadata": {},
     "output_type": "execute_result"
    }
   ],
   "source": [
    "#if (num % 2) == 0:\n",
    "\n",
    "def best_slope():\n",
    "    r_1 = 0\n",
    "    r_2 = 0\n",
    "    r_3 = 0\n",
    "    r_4 = 0\n",
    "    r_5 = 0\n",
    "    \n",
    "    trees_1 = 0\n",
    "    trees_2 = 0\n",
    "    trees_3 = 0\n",
    "    trees_4 = 0\n",
    "    trees_5 = 0\n",
    "    i = 0\n",
    "    for line in slope:\n",
    "        new_line = str.replace(line,'\\n','') + str.replace(line,'\\n','') + str.replace(line,'\\n','') + str.replace(line,'\\n','') + str.replace(line,'\\n','') + str.replace(line,'\\n','') + str.replace(line,'\\n','') + str.replace(line,'\\n','') + str.replace(line,'\\n','') + str.replace(line,'\\n','') + str.replace(line,'\\n','') + str.replace(line,'\\n','') + str.replace(line,'\\n','') + str.replace(line,'\\n','') + str.replace(line,'\\n','') + str.replace(line,'\\n','') + str.replace(line,'\\n','') + str.replace(line,'\\n','') + str.replace(line,'\\n','') + str.replace(line,'\\n','') + str.replace(line,'\\n','') + str.replace(line,'\\n','') + str.replace(line,'\\n','') + str.replace(line,'\\n','') + str.replace(line,'\\n','') + str.replace(line,'\\n','') + str.replace(line,'\\n','') + str.replace(line,'\\n','') + str.replace(line,'\\n','') + str.replace(line,'\\n','') + str.replace(line,'\\n','') + str.replace(line,'\\n','') + str.replace(line,'\\n','') + str.replace(line,'\\n','') + str.replace(line,'\\n','') + str.replace(line,'\\n','') + str.replace(line,'\\n','') + str.replace(line,'\\n','')  + str.replace(line,'\\n','') + str.replace(line,'\\n','') + str.replace(line,'\\n','') + str.replace(line,'\\n','') + str.replace(line,'\\n','') + str.replace(line,'\\n','') + str.replace(line,'\\n','') + str.replace(line,'\\n','') + str.replace(line,'\\n','') + str.replace(line,'\\n','') + str.replace(line,'\\n','') + str.replace(line,'\\n','') + str.replace(line,'\\n','') + str.replace(line,'\\n','') + str.replace(line,'\\n','') + str.replace(line,'\\n','') + str.replace(line,'\\n','') + str.replace(line,'\\n','') + str.replace(line,'\\n','') + str.replace(line,'\\n','') + str.replace(line,'\\n','') + str.replace(line,'\\n','') + str.replace(line,'\\n','') + str.replace(line,'\\n','') + str.replace(line,'\\n','') + str.replace(line,'\\n','') + str.replace(line,'\\n','') + str.replace(line,'\\n','') + str.replace(line,'\\n','') + str.replace(line,'\\n','') + str.replace(line,'\\n','') + str.replace(line,'\\n','') + str.replace(line,'\\n','') + str.replace(line,'\\n','') + str.replace(line,'\\n','') + str.replace(line,'\\n','') + str.replace(line,'\\n','')\n",
    "\n",
    "        if r_2 > 0 and new_line[r_2] == '#':\n",
    "            trees_1 = trees_1 + 1\n",
    "            #print(new_line)\n",
    "            #print(new_line[r])\n",
    "            \n",
    "        if r_1 > 0 and new_line[r_1] == '#':\n",
    "                trees_2 = trees_2 + 1\n",
    "                #print(new_line)\n",
    "                #print(new_line[r])\n",
    "                \n",
    "        if r_3 > 0 and new_line[r_3] == '#':\n",
    "                trees_3 = trees_3 + 1\n",
    "                #print(new_line)\n",
    "                #print(new_line[r])        \n",
    "                \n",
    "        if r_4 > 0 and new_line[r_4] == '#':\n",
    "                trees_4 = trees_4 + 1\n",
    "                #print(new_line)\n",
    "                #print(new_line[r])\n",
    "                \n",
    "        if r_5 > 0 and new_line[r_5] == '#' and (i % 2) == 0:\n",
    "                trees_5 = trees_5 + 1\n",
    "                #print(new_line)\n",
    "                #print(new_line[r])        \n",
    "        \n",
    "        \n",
    "        r_1 = r_1 + 1    \n",
    "        r_2 = r_2 + 3\n",
    "        r_3 = r_3 + 5\n",
    "        r_4 = r_4 + 7\n",
    "        i = i + 1\n",
    "        if (i % 2 ) == 0:\n",
    "            r_5 = r_5 + 1\n",
    "        \n",
    "    return(trees_1,trees_2,trees_3,trees_4,trees_5, trees_1*trees_2*trees_3*trees_4*trees_5)\n",
    "\n",
    "\n",
    "\n",
    "\n",
    "\n",
    "\n",
    "\n",
    "\n",
    "best_slope()   \n",
    "\n",
    "\n",
    "\n",
    "\n",
    "\n"
   ]
  }
 ],
 "metadata": {
  "kernelspec": {
   "display_name": "Python [conda env:root] *",
   "language": "python",
   "name": "conda-root-py"
  },
  "language_info": {
   "codemirror_mode": {
    "name": "ipython",
    "version": 3
   },
   "file_extension": ".py",
   "mimetype": "text/x-python",
   "name": "python",
   "nbconvert_exporter": "python",
   "pygments_lexer": "ipython3",
   "version": "3.7.3"
  }
 },
 "nbformat": 4,
 "nbformat_minor": 2
}
