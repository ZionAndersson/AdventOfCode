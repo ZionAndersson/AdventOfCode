{
 "cells": [
  {
   "cell_type": "markdown",
   "metadata": {},
   "source": [
    "# Advent of Code Day 1"
   ]
  },
  {
   "cell_type": "markdown",
   "metadata": {},
   "source": [
    "### Task1"
   ]
  },
  {
   "cell_type": "markdown",
   "metadata": {},
   "source": [
    "Task text:\n",
    "\n",
    "Before you leave, the Elves in accounting just need you to fix your expense report (your puzzle input); apparently, something isn't quite adding up.\n",
    "\n",
    "Specifically, they need you to find the two entries that sum to 2020 and then multiply those two numbers together.\n",
    "\n",
    "For example, suppose your expense report contained the following:\n",
    "\n",
    "1721\n",
    "979\n",
    "366\n",
    "299\n",
    "675\n",
    "1456\n",
    "In this list, the two entries that sum to 2020 are 1721 and 299. Multiplying them together produces 1721 * 299 = 514579, so the correct answer is 514579.\n",
    "\n",
    "Of course, your expense report is much larger. Find the two entries that sum to 2020; what do you get if you multiply them together?"
   ]
  },
  {
   "cell_type": "code",
   "execution_count": 29,
   "metadata": {},
   "outputs": [
    {
     "name": "stdout",
     "output_type": "stream",
     "text": [
      "The two values are:\n",
      "1024 996\n",
      "The multiplaction of the two values are\n",
      "1019904\n"
     ]
    }
   ],
   "source": [
    "#Create list for the expense report\n",
    "f = open('Advent of Code 2020\\Day1\\day_1_input.txt', 'r+')\n",
    "expense_report = [int(line) for line in f.readlines()]\n",
    "f.close()\n",
    "\n",
    "def calc_expenses():\n",
    "    for n in expense_report:\n",
    "        for y in expense_report:\n",
    "            if n + y == 2020:\n",
    "                print(\"The two values are:\")\n",
    "                print(n,y)\n",
    "                print(\"The multiplaction of the two values are\")\n",
    "                print(n*y)\n",
    "                return\n",
    "calc_expenses()"
   ]
  },
  {
   "cell_type": "markdown",
   "metadata": {},
   "source": [
    "### Task2"
   ]
  },
  {
   "cell_type": "markdown",
   "metadata": {},
   "source": [
    "Task text:\n",
    "\n",
    "The Elves in accounting are thankful for your help; one of them even offers you a starfish coin they had left over from a past vacation. They offer you a second one if you can find three numbers in your expense report that meet the same criteria.\n",
    "\n",
    "Using the above example again, the three entries that sum to 2020 are 979, 366, and 675. Multiplying them together produces the answer, 241861950.\n",
    "\n",
    "In your expense report, what is the product of the three entries that sum to 2020?"
   ]
  },
  {
   "cell_type": "code",
   "execution_count": 30,
   "metadata": {},
   "outputs": [
    {
     "name": "stdout",
     "output_type": "stream",
     "text": [
      "The thee values are:\n",
      "816 984 220\n",
      "The multiplaction of the three values are\n",
      "176647680\n"
     ]
    }
   ],
   "source": [
    "def calc_expenses2():\n",
    "    for n in expense_report:\n",
    "        for y in expense_report:\n",
    "            for x in expense_report:\n",
    "                if n + y + x == 2020:\n",
    "                    print(\"The thee values are:\")\n",
    "                    print(n,y,x)\n",
    "                    print(\"The multiplaction of the three values are\")\n",
    "                    print(n*y*x)\n",
    "                    return\n",
    "\n",
    "calc_expenses2()"
   ]
  }
 ],
 "metadata": {
  "kernelspec": {
   "display_name": "Python [conda env:root] *",
   "language": "python",
   "name": "conda-root-py"
  },
  "language_info": {
   "codemirror_mode": {
    "name": "ipython",
    "version": 3
   },
   "file_extension": ".py",
   "mimetype": "text/x-python",
   "name": "python",
   "nbconvert_exporter": "python",
   "pygments_lexer": "ipython3",
   "version": "3.7.3"
  }
 },
 "nbformat": 4,
 "nbformat_minor": 2
}
