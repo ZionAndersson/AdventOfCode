{
 "cells": [
  {
   "cell_type": "markdown",
   "metadata": {},
   "source": [
    "# Advent of Code Day 1"
   ]
  },
  {
   "cell_type": "markdown",
   "metadata": {},
   "source": [
    "### Task1"
   ]
  },
  {
   "cell_type": "markdown",
   "metadata": {},
   "source": [
    "Task text:\n",
    "\n",
    "Before you leave, the Elves in accounting just need you to fix your expense report (your puzzle input); apparently, something isn't quite adding up.\n",
    "\n",
    "Specifically, they need you to find the two entries that sum to 2020 and then multiply those two numbers together.\n",
    "\n",
    "For example, suppose your expense report contained the following:\n",
    "\n",
    "1721\n",
    "979\n",
    "366\n",
    "299\n",
    "675\n",
    "1456\n",
    "In this list, the two entries that sum to 2020 are 1721 and 299. Multiplying them together produces 1721 * 299 = 514579, so the correct answer is 514579.\n",
    "\n",
    "Of course, your expense report is much larger. Find the two entries that sum to 2020; what do you get if you multiply them together?"
   ]
  },
  {
   "cell_type": "code",
   "execution_count": 8,
   "metadata": {},
   "outputs": [
    {
     "name": "stdout",
     "output_type": "stream",
     "text": [
      "The two values are:\n",
      "1024 996\n",
      "The multiplaction of the two values are\n",
      "1019904\n"
     ]
    }
   ],
   "source": [
    "#Create list for the expense report\n",
    "expense_report = [1384,\t1396,\t1072,\t1903,\t1387,\t1763,\t1600,\t1862,\t1992,\t1585,\t1909,\t1352,\t1288,\t1910,\t1070,\t1421,\t1802,\t1669,\t1059,\t1235,\t1854,\t1722,\t1275,\t198,\t1476,\t1588,\t1708,\t1217,\t1596,\t1355,\t1566,\t1973,\t1335,\t1480,\t1115,\t1272,\t1998,\t1821,\t2007,\t1721,\t1885,\t1420,\t1412,\t1487,\t1941,\t1835,\t1558,\t1061,\t1582,\t1940,\t1942,\t1210,\t1350,\t1175,\t1047,\t1456,\t1548,\t1110,\t1510,\t1995,\t1644,\t1968,\t1297,\t1198,\t1471,\t1360,\t1363,\t1528,\t1393,\t1365,\t1837,\t1886,\t2001,\t1161,\t1349,\t1787,\t988,\t1331,\t1960,\t1607,\t1324,\t97,\t1986,\t1955,\t1773,\t1443,\t1852,\t1368,\t1050,\t1378,\t1239,\t1750,\t1868,\t816,\t1965,\t1661,\t1728,\t1981,\t984,\t1037,\t1525,\t1789,\t1318,\t1952,\t1359,\t1358,\t1869,\t1641,\t1240,\t1542,\t1959,\t1022,\t1475,\t1733,\t1081,\t1889,\t1138,\t1757,\t1736,\t1723,\t1543,\t1820,\t1128,\t1039,\t1683,\t1477,\t1375,\t1499,\t676,\t1195,\t1250,\t220,\t1581,\t1328,\t1187,\t1485,\t1216,\t1769,\t1139,\t1064,\t1908,\t1516,\t1490,\t1419,\t1749,\t1347,\t1758,\t1024,\t1053,\t1842,\t1861,\t1403,\t1966,\t1546,\t1134,\t1593,\t1734,\t1916,\t1867,\t1101,\t1126,\t1301,\t1841,\t1515,\t1244,\t1401,\t1637,\t1054,\t1309,\t1933,\t1512,\t1263,\t1815,\t1634,\t1823,\t1295,\t1583,\t1104,\t1765,\t1850,\t1311,\t1692,\t1905,\t1149,\t1780,\t1330,\t1666,\t996,\t1913,\t1140,\t1089,\t1484,\t1356,\t1296,\t1323,\t1160,\t1881,\t1123,\t1166,\t1929]\n",
    "\n",
    "def calc_expenses():\n",
    "    for n in expense_report:\n",
    "        for y in expense_report:\n",
    "            if n + y == 2020:\n",
    "                print(\"The two values are:\")\n",
    "                print(n,y)\n",
    "                print(\"The multiplaction of the two values are\")\n",
    "                print(n*y)\n",
    "                return\n",
    "calc_expenses()"
   ]
  },
  {
   "cell_type": "markdown",
   "metadata": {},
   "source": [
    "### Task2"
   ]
  },
  {
   "cell_type": "markdown",
   "metadata": {},
   "source": [
    "Task text:\n",
    "\n",
    "The Elves in accounting are thankful for your help; one of them even offers you a starfish coin they had left over from a past vacation. They offer you a second one if you can find three numbers in your expense report that meet the same criteria.\n",
    "\n",
    "Using the above example again, the three entries that sum to 2020 are 979, 366, and 675. Multiplying them together produces the answer, 241861950.\n",
    "\n",
    "In your expense report, what is the product of the three entries that sum to 2020?"
   ]
  },
  {
   "cell_type": "code",
   "execution_count": 9,
   "metadata": {},
   "outputs": [
    {
     "name": "stdout",
     "output_type": "stream",
     "text": [
      "The thee values are:\n",
      "816 984 220\n",
      "The multiplaction of the three values are\n",
      "176647680\n"
     ]
    }
   ],
   "source": [
    "def calc_expenses2():\n",
    "    for n in expense_report:\n",
    "        for y in expense_report:\n",
    "            for x in expense_report:\n",
    "                if n + y + x == 2020:\n",
    "                    print(\"The thee values are:\")\n",
    "                    print(n,y,x)\n",
    "                    print(\"The multiplaction of the three values are\")\n",
    "                    print(n*y*x)\n",
    "                    return\n",
    "\n",
    "calc_expenses2()"
   ]
  }
 ],
 "metadata": {
  "kernelspec": {
   "display_name": "Python [conda env:root] *",
   "language": "python",
   "name": "conda-root-py"
  },
  "language_info": {
   "codemirror_mode": {
    "name": "ipython",
    "version": 3
   },
   "file_extension": ".py",
   "mimetype": "text/x-python",
   "name": "python",
   "nbconvert_exporter": "python",
   "pygments_lexer": "ipython3",
   "version": "3.7.3"
  }
 },
 "nbformat": 4,
 "nbformat_minor": 2
}
